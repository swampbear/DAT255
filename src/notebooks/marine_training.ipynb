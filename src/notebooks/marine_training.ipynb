{
  "cells": [
    {
      "cell_type": "code",
      "execution_count": 3,
      "metadata": {
        "vscode": {
          "languageId": "plaintext"
        },
        "id": "8rKqpeQ_bj_E",
        "outputId": "3576c8b8-df39-4c62-f3a3-32cd94cad350",
        "colab": {
          "base_uri": "https://localhost:8080/"
        }
      },
      "outputs": [
        {
          "output_type": "stream",
          "name": "stdout",
          "text": [
            "Path to dataset files: /root/.keras/datasets/marine.txt\n"
          ]
        }
      ],
      "source": [
        "import tensorflow as tf\n",
        "import kagglehub\n",
        "\n",
        "# Download latest version\n",
        "filepath = tf.keras.utils.get_file(\"marine.txt\", \"https://www.kaggle.com/api/v1/datasets/download/linogova/marine-radio-chatter-bridge-to-bridge-transcript?dataset_version_number=1\")\n",
        "\n",
        "print(\"Path to dataset files:\", filepath)"
      ]
    },
    {
      "cell_type": "code",
      "source": [
        "with open(filepath, encoding='utf-8', errors='replace') as f:\n",
        "    marine_text = f.read()"
      ],
      "metadata": {
        "id": "eAMYMICTbkoj"
      },
      "execution_count": 4,
      "outputs": []
    },
    {
      "cell_type": "code",
      "source": [
        "print(marine_text[:500])"
      ],
      "metadata": {
        "id": "KzTJA2ODcFq-",
        "outputId": "0a39ae5e-48b0-45c4-cf9a-a68d4d8bc51d",
        "colab": {
          "base_uri": "https://localhost:8080/"
        }
      },
      "execution_count": 7,
      "outputs": [
        {
          "output_type": "stream",
          "name": "stdout",
          "text": [
            "PK\u0003\u0004-\u0000\u0000\b\b\u0000��TX�j ?��������@\u0000\u0014\u0000Marine_audio_transcribed_whisperx/17329/17329-20230629-0004.json\u0001\u0000\u0010\u0000��\u0001\u0000\u0000\u0000\u0000\u0000�D\u0000\u0000\u0000\u0000\u0000\u0000��ms#���\n",
            "�o�̨B���l���q��썵�s���\u000bJ�Zܖ�>�\u001a��b��!끕�\u0007Q���]�TK�\u0001H$�D\"�����7���x��[��nV�����G�n\\�8o�\u000f��7�l7�7���w��j���z��w�����uw~\\�\u001fwOO��o�_�\u001e����'\u0019L�I��-��jIfݴ����q�?��7��?o7��G�����?�����ո����j����܌�\u0018�\n",
            "��9%7�OR\n",
            "�v��]ku�Ib\u0012�q��\u00156�ӡ�\u000f$�q��N`�kuX֫398�\u0011F�s^.r�g$���\u000b{R�\u001f6�������j�:}~ڝoV�������*�����\u001e覕]i}�\t�u+����\u0005�$���\u000e�\u001b&�]˹\u001dpM��gI���\u0016��(�0t�D;�\u000e0T�V�Y����8;�0l\u0016��T>7�t(í}0L���r�ެ�o}m�\n"
          ]
        }
      ]
    },
    {
      "cell_type": "code",
      "source": [
        "text_vect_layer = tf.keras.layers.TextVectorization(split=\"character\", standardize=\"lower\")\n",
        "text_vect_layer.adapt([marine_text])\n"
      ],
      "metadata": {
        "id": "sydjKc-qdOQf"
      },
      "execution_count": null,
      "outputs": []
    },
    {
      "cell_type": "code",
      "source": [
        "encoded = text_vect_layer(marine_text)[0]"
      ],
      "metadata": {
        "id": "nyMN8e_eeg6o"
      },
      "execution_count": null,
      "outputs": []
    },
    {
      "cell_type": "code",
      "source": [
        "encoded -= 2\n",
        "n_tokens = text_vect_layer.get_vocabulary_size()-2\n",
        "dataset_size = len(encoded)"
      ],
      "metadata": {
        "id": "5cQnt4IHdhiu",
        "outputId": "ac7d24f1-47fc-48af-eefc-a3db8ea77c4e",
        "colab": {
          "base_uri": "https://localhost:8080/",
          "height": 176
        }
      },
      "execution_count": 1,
      "outputs": [
        {
          "output_type": "error",
          "ename": "NameError",
          "evalue": "name 'encoded' is not defined",
          "traceback": [
            "\u001b[0;31m---------------------------------------------------------------------------\u001b[0m",
            "\u001b[0;31mNameError\u001b[0m                                 Traceback (most recent call last)",
            "\u001b[0;32m<ipython-input-1-90effb5e3585>\u001b[0m in \u001b[0;36m<cell line: 0>\u001b[0;34m()\u001b[0m\n\u001b[0;32m----> 1\u001b[0;31m \u001b[0mencoded\u001b[0m \u001b[0;34m-=\u001b[0m \u001b[0;36m2\u001b[0m\u001b[0;34m\u001b[0m\u001b[0;34m\u001b[0m\u001b[0m\n\u001b[0m\u001b[1;32m      2\u001b[0m \u001b[0mn_tokens\u001b[0m \u001b[0;34m=\u001b[0m \u001b[0mtext_vect_layer\u001b[0m\u001b[0;34m.\u001b[0m\u001b[0mget_vocabulary_size\u001b[0m\u001b[0;34m(\u001b[0m\u001b[0;34m)\u001b[0m\u001b[0;34m-\u001b[0m\u001b[0;36m2\u001b[0m\u001b[0;34m\u001b[0m\u001b[0;34m\u001b[0m\u001b[0m\n\u001b[1;32m      3\u001b[0m \u001b[0mdataset_size\u001b[0m \u001b[0;34m=\u001b[0m \u001b[0mlen\u001b[0m\u001b[0;34m(\u001b[0m\u001b[0mencoded\u001b[0m\u001b[0;34m)\u001b[0m\u001b[0;34m\u001b[0m\u001b[0;34m\u001b[0m\u001b[0m\n",
            "\u001b[0;31mNameError\u001b[0m: name 'encoded' is not defined"
          ]
        }
      ]
    }
  ],
  "metadata": {
    "language_info": {
      "name": "python"
    },
    "colab": {
      "provenance": []
    },
    "kernelspec": {
      "name": "python3",
      "display_name": "Python 3"
    }
  },
  "nbformat": 4,
  "nbformat_minor": 0
}